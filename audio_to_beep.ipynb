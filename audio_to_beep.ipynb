{
 "cells": [
  {
   "cell_type": "code",
   "execution_count": 1,
   "id": "2aabd2c9-4915-4f7e-ba03-6683c8f789b1",
   "metadata": {},
   "outputs": [],
   "source": [
    "import librosa\n",
    "import numpy as np\n",
    "import matplotlib.pyplot as plt\n",
    "import winsound\n",
    "import ipywidgets as widgets\n",
    "import IPython.display as ipd\n",
    "from scipy.signal import butter, filtfilt\n",
    "from IPython.display import display, Audio\n",
    "from scipy.signal import chirp\n",
    "from scipy.io.wavfile import write"
   ]
  },
  {
   "cell_type": "code",
   "execution_count": 2,
   "id": "fd853a2d-d2ed-4a38-93e2-f695480f3738",
   "metadata": {
    "scrolled": true
   },
   "outputs": [],
   "source": [
    "audio_file = r'<Your Audio File Here>'\n",
    "signal, sample_rate = librosa.load(audio_file, sr=None)\n",
    "interval = 0.20 #Set Interval right here\n",
    "chunk_size = int(sample_rate*interval)"
   ]
  },
  {
   "cell_type": "code",
   "execution_count": 3,
   "id": "7fc00970-f506-4f7f-8464-4eee61342575",
   "metadata": {},
   "outputs": [],
   "source": [
    "#Beep Generation Function\n",
    "def play_beep(sample_rate, dominant_frequencies):\n",
    "    sound = np.array([])\n",
    "    t = np.linspace(0, interval, int(sample_rate*interval), endpoint=False)\n",
    "    phase = 0\n",
    "\n",
    "    for freq in dominant_frequencies:\n",
    "            beep = 0.15 * np.sin(2 * np.pi * freq * t + phase)\n",
    "            phase = (phase + 2 * np.pi * freq * interval) % (2 * np.pi)\n",
    "            sound = np.concatenate((sound, beep))\n",
    "\n",
    "    return sound\n",
    "\n",
    "#Bandpass filter function for frequency extraction\n",
    "def bandpass_filter(data, lowcut, highcut, sample_rate, order=4):\n",
    "    nyquist = 0.5 * sample_rate\n",
    "    low = lowcut / nyquist\n",
    "    high = highcut / nyquist\n",
    "    b, a = butter(order, [low, high], btype = 'band', analog = False)\n",
    "    return filtfilt(b, a, data)"
   ]
  },
  {
   "cell_type": "code",
   "execution_count": 4,
   "id": "b0a8047c-2391-4011-a48c-065292a30baa",
   "metadata": {},
   "outputs": [],
   "source": [
    "#Frequency extraction using FFT\n",
    "dominant_freqs = []\n",
    "filtered_signal = bandpass_filter(signal, 200,  4000, sample_rate=sample_rate)\n",
    "magnitude_threshold = 50\n",
    "for i in range(0, len(signal), chunk_size):\n",
    "    chunk = filtered_signal[i:i + chunk_size]\n",
    "    \n",
    "    # Pad the chunk if it's less than 1 second (for the last segment)\n",
    "    if len(chunk) < chunk_size:\n",
    "        chunk = np.pad(chunk, (0, chunk_size - len(chunk)))\n",
    "    \n",
    "    # Perform FFT\n",
    "    fft_result = np.fft.fft(chunk)\n",
    "    fft_magnitude = np.abs(fft_result)  # Get magnitude of FFT\n",
    "    frequencies = np.fft.fftfreq(len(fft_result), 1 / sample_rate)  # Get frequency bins\n",
    "\n",
    "    # Keep only positive frequencies\n",
    "    freqs = frequencies[:len(frequencies) // 2]\n",
    "    magnitudes = fft_magnitude[:len(frequencies) // 2]\n",
    "\n",
    "    # Find dominant frequency\n",
    "    dominant_frequency = freqs[np.argmax(magnitudes)]\n",
    "    max_index = np.argmax(magnitudes)\n",
    "    max_magnitude = magnitudes[max_index]\n",
    "   \n",
    "    #Lambda Function(could be useful for transforming frequency to music note)\n",
    "    #note_frequencies = { #128, 132, 164, 196, 292, 328, 388, 392, 440, 492, 496, 524, 588, 592, 660, 744, 788\n",
    "    #    \"0\": 0, \"1\": 128, \"2\": 132, \"3\": 164, \"4\": 196, \"5\": 292, \"6\": 328, \"7\": 388, \"8\": 392, \"9\": 440, \n",
    "    #    \"10\": 492, \"11\": 496, \"12\": 524, \"13\": 588, \"14\": 592, \"15\": 660, \"16\": 744, \"17\": 788\n",
    "    #    \"0\": 0.00, \"C0\": 16.35, \"C#0\": 17.32, \"D0\": 18.35, \"D#0\": 19.45, \"E0\": 20.60, \n",
    "    #    \"F0\": 21.83, \"F#0\": 23.12, \"G0\": 24.50, \"G#0\": 25.96, \"A0\": 27.50, \"A#0\": 29.14, \"B0\": 30.87,\n",
    "    #    \"C1\": 32.70, \"C#1\": 34.65, \"D1\": 36.71, \"D#1\": 38.89, \"E1\": 41.20, \n",
    "    #    \"F1\": 43.65, \"F#1\": 46.25, \"G1\": 49.00, \"G#1\": 51.91, \"A1\": 55.00, \"A#1\": 58.27, \"B1\": 61.74,\n",
    "    #    \"C2\": 65.41, \"C#2\": 69.30, \"D2\": 73.42, \"D#2\": 77.78, \"E2\": 82.41, \n",
    "    #    \"F2\": 87.31, \"F#2\": 92.50, \"G2\": 98.00, \"G#2\": 103.83, \"A2\": 110.00, \"A#2\": 116.54, \"B2\": 123.47,\n",
    "    #    \"C3\": 130.81, \"C#3\": 138.59, \"D3\": 146.83, \"D#3\": 155.56, \"E3\": 164.81, \n",
    "    #    \"F3\": 174.61, \"F#3\": 185.00, \"G3\": 196.00, \"G#3\": 207.65, \"A3\": 220.00, \"A#3\": 233.08, \"B3\": 246.94,\n",
    "    #    \"C4\": 261.63, \"C#4\": 277.18, \"D4\": 293.66, \"D#4\": 311.13, \"E4\": 329.63, \n",
    "    #    \"F4\": 349.23, \"F#4\": 369.99, \"G4\": 392.00, \"G#4\": 415.30, \"A4\": 440.00, \"A#4\": 466.16, \"B4\": 493.88,\n",
    "    #    \"C5\": 523.25, \"C#5\": 554.37, \"D5\": 587.33, \"D#5\": 622.25, \"E5\": 659.25, \n",
    "    #    \"F5\": 698.46, \"F#5\": 739.99, \"G5\": 783.99, \"G#5\": 830.61, \"A5\": 880.00, \"A#5\": 932.33, \"B5\": 987.77,\n",
    "    #    \"C6\": 1046.50, \"C#6\": 1108.73, \"D6\": 1174.66, \"D#6\": 1244.51, \"E6\": 1318.51, \n",
    "    #    \"F6\": 1396.91, \"F#6\": 1479.98, \"G6\": 1567.98, \"G#6\": 1661.22, \"A6\": 1760.00, \"A#6\": 1864.66, \"B6\": 1975.53\n",
    "    #}\n",
    "    #closest_note = min(note_frequencies, key=lambda note: abs(dominant_frequency - note_frequencies[note]))\n",
    "    #dominant_frequency = (note_frequencies[closest_note])\n",
    "    \n",
    "    \n",
    "    if max_magnitude > magnitude_threshold:  \n",
    "        dominant_freqs.append(dominant_frequency)\n",
    "        #dominant_magnitudes.append(max_magnitude)\n",
    "    else:\n",
    "        dominant_freqs.append(0)\n",
    "        #dominant_magnitudes.append(0)\n",
    "\n",
    "    # Normalize magnitudes to [0, 1] for amplitude control\n",
    "    #max_mag = max(dominant_magnitudes) if max(dominant_magnitudes) > 0 else 1\n",
    "    #normalized_amplitudes = [mag / max_mag for mag in dominant_magnitudes]\n",
    "    \"\"\"\n",
    "    # Plot the spectrum\n",
    "    plt.figure(figsize=(10, 4))\n",
    "    plt.plot(freqs, magnitudes)\n",
    "    plt.title(f\"Frequency Spectrum for Second {i // chunk_size + 1}\")\n",
    "    plt.xlabel(\"Frequency (Hz)\")\n",
    "    plt.ylabel(\"Magnitude\")\n",
    "    plt.xlim(0,10000)\n",
    "    plt.grid()\n",
    "    plt.annotate(f\"{dominant_frequency:.2f} Hz\",\n",
    "                 xy=(dominant_frequency, np.max(magnitudes)),\n",
    "                 xytext=(dominant_frequency, np.max(magnitudes) * 1.1),\n",
    "                 arrowprops=dict(arrowstyle=\"->\", color=\"red\"),\n",
    "                 color=\"red\")\n",
    "    plt.show()\n",
    "    print(f\"Second {i // chunk_size + 1}: Dominant Frequency = {dominant_frequency:.2f} Hz\")\n",
    "    \"\"\""
   ]
  },
  {
   "cell_type": "code",
   "execution_count": 5,
   "id": "572618be-411d-4799-8350-016dd01476e3",
   "metadata": {},
   "outputs": [],
   "source": [
    "beep = play_beep(sample_rate, dominant_freqs)\n",
    "output_filename = \"output.wav\"\n",
    "write(output_filename, sample_rate, (beep * 32767).astype(np.int16))"
   ]
  },
  {
   "cell_type": "code",
   "execution_count": null,
   "id": "e30e2842-d244-4049-a6dd-558a6dc1e297",
   "metadata": {},
   "outputs": [],
   "source": [
    "#For Testing Purpose\n",
    "#min_freq = min(dominant_freqs)\n",
    "#max_freq = max(dominant_freqs)\n",
    "#print(f\"Minimum dominant frequency: {min_freq:.2f} Hz\")\n",
    "#print(f\"Maximum dominant frequency: {max_freq:.2f} Hz\")"
   ]
  },
  {
   "cell_type": "code",
   "execution_count": null,
   "id": "dc8f85a7-d2b5-4964-b17d-187a4039f2ca",
   "metadata": {},
   "outputs": [],
   "source": [
    "#For Testing Purpose\n",
    "#cleaned_data = [float(x) for x in dominant_freqs]\n",
    "#print(cleaned_data)"
   ]
  },
  {
   "cell_type": "code",
   "execution_count": null,
   "id": "eb5f59c3-8b31-4f32-8ad5-1bf2bed74cc2",
   "metadata": {},
   "outputs": [],
   "source": []
  }
 ],
 "metadata": {
  "kernelspec": {
   "display_name": "Python 3 (ipykernel)",
   "language": "python",
   "name": "python3"
  },
  "language_info": {
   "codemirror_mode": {
    "name": "ipython",
    "version": 3
   },
   "file_extension": ".py",
   "mimetype": "text/x-python",
   "name": "python",
   "nbconvert_exporter": "python",
   "pygments_lexer": "ipython3",
   "version": "3.12.10"
  }
 },
 "nbformat": 4,
 "nbformat_minor": 5
}
