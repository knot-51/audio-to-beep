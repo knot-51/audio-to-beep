{
 "cells": [
  {
   "cell_type": "code",
   "execution_count": 4,
   "id": "2aabd2c9-4915-4f7e-ba03-6683c8f789b1",
   "metadata": {},
   "outputs": [],
   "source": [
    "import librosa\n",
    "import numpy as np\n",
    "import matplotlib.pyplot as plt\n",
    "import winsound\n",
    "import ipywidgets as widgets\n",
    "import IPython.display as ipd\n",
    "from scipy.signal import butter, filtfilt\n",
    "from IPython.display import display, Audio\n",
    "from scipy.signal import chirp\n",
    "from scipy.io.wavfile import write"
   ]
  },
  {
   "cell_type": "code",
   "execution_count": null,
   "id": "8ce2f9ac-db3e-4b6b-addf-abf6a95f3c95",
   "metadata": {},
   "outputs": [],
   "source": [
    "# File input (type the path or upload)\n",
    "audio_file_input = widgets.Text(\n",
    "    value='your_audio.wav',\n",
    "    description='Audio File:',\n",
    "    style={'description_width': 'initial'},\n",
    "    layout=widgets.Layout(width='80%')\n",
    ")\n",
    "\n",
    "# Interval input\n",
    "interval_input = widgets.FloatText(\n",
    "    value=0.25,\n",
    "    description='Interval (sec):',\n",
    "    style={'description_width': 'initial'}\n",
    ")\n",
    "\n",
    "display(audio_file_input, interval_input)"
   ]
  },
  {
   "cell_type": "code",
   "execution_count": 3,
   "id": "fd853a2d-d2ed-4a38-93e2-f695480f3738",
   "metadata": {
    "scrolled": true
   },
   "outputs": [
    {
     "data": {
      "application/vnd.jupyter.widget-view+json": {
       "model_id": "04439be93da84009ab5cfb4a928a38cb",
       "version_major": 2,
       "version_minor": 0
      },
      "text/plain": [
       "Text(value='your_audio.wav', description='Audio File:', layout=Layout(width='80%'), style=TextStyle(descriptio…"
      ]
     },
     "metadata": {},
     "output_type": "display_data"
    },
    {
     "data": {
      "application/vnd.jupyter.widget-view+json": {
       "model_id": "b14765bf907d4311a18f7b6362344359",
       "version_major": 2,
       "version_minor": 0
      },
      "text/plain": [
       "FloatText(value=0.25, description='Interval (sec):', style=DescriptionStyle(description_width='initial'))"
      ]
     },
     "metadata": {},
     "output_type": "display_data"
    },
    {
     "name": "stderr",
     "output_type": "stream",
     "text": [
      "C:\\Users\\knot5\\AppData\\Local\\Temp\\ipykernel_19056\\231209979.py:21: UserWarning: PySoundFile failed. Trying audioread instead.\n",
      "  signal, sample_rate = librosa.load(audio_file, sr=None)\n",
      "C:\\Users\\knot5\\AppData\\Local\\Packages\\PythonSoftwareFoundation.Python.3.12_qbz5n2kfra8p0\\LocalCache\\local-packages\\Python312\\site-packages\\librosa\\core\\audio.py:184: FutureWarning: librosa.core.audio.__audioread_load\n",
      "\tDeprecated as of librosa version 0.10.0.\n",
      "\tIt will be removed in librosa version 1.0.\n",
      "  y, sr_native = __audioread_load(path, offset, duration, dtype)\n"
     ]
    },
    {
     "ename": "FileNotFoundError",
     "evalue": "[Errno 2] No such file or directory: 'your_audio.wav'",
     "output_type": "error",
     "traceback": [
      "\u001b[1;31m---------------------------------------------------------------------------\u001b[0m",
      "\u001b[1;31mLibsndfileError\u001b[0m                           Traceback (most recent call last)",
      "File \u001b[1;32m~\\AppData\\Local\\Packages\\PythonSoftwareFoundation.Python.3.12_qbz5n2kfra8p0\\LocalCache\\local-packages\\Python312\\site-packages\\librosa\\core\\audio.py:176\u001b[0m, in \u001b[0;36mload\u001b[1;34m(path, sr, mono, offset, duration, dtype, res_type)\u001b[0m\n\u001b[0;32m    175\u001b[0m \u001b[38;5;28;01mtry\u001b[39;00m:\n\u001b[1;32m--> 176\u001b[0m     y, sr_native \u001b[38;5;241m=\u001b[39m \u001b[43m__soundfile_load\u001b[49m\u001b[43m(\u001b[49m\u001b[43mpath\u001b[49m\u001b[43m,\u001b[49m\u001b[43m \u001b[49m\u001b[43moffset\u001b[49m\u001b[43m,\u001b[49m\u001b[43m \u001b[49m\u001b[43mduration\u001b[49m\u001b[43m,\u001b[49m\u001b[43m \u001b[49m\u001b[43mdtype\u001b[49m\u001b[43m)\u001b[49m\n\u001b[0;32m    178\u001b[0m \u001b[38;5;28;01mexcept\u001b[39;00m sf\u001b[38;5;241m.\u001b[39mSoundFileRuntimeError \u001b[38;5;28;01mas\u001b[39;00m exc:\n\u001b[0;32m    179\u001b[0m     \u001b[38;5;66;03m# If soundfile failed, try audioread instead\u001b[39;00m\n",
      "File \u001b[1;32m~\\AppData\\Local\\Packages\\PythonSoftwareFoundation.Python.3.12_qbz5n2kfra8p0\\LocalCache\\local-packages\\Python312\\site-packages\\librosa\\core\\audio.py:209\u001b[0m, in \u001b[0;36m__soundfile_load\u001b[1;34m(path, offset, duration, dtype)\u001b[0m\n\u001b[0;32m    207\u001b[0m \u001b[38;5;28;01melse\u001b[39;00m:\n\u001b[0;32m    208\u001b[0m     \u001b[38;5;66;03m# Otherwise, create the soundfile object\u001b[39;00m\n\u001b[1;32m--> 209\u001b[0m     context \u001b[38;5;241m=\u001b[39m \u001b[43msf\u001b[49m\u001b[38;5;241;43m.\u001b[39;49m\u001b[43mSoundFile\u001b[49m\u001b[43m(\u001b[49m\u001b[43mpath\u001b[49m\u001b[43m)\u001b[49m\n\u001b[0;32m    211\u001b[0m \u001b[38;5;28;01mwith\u001b[39;00m context \u001b[38;5;28;01mas\u001b[39;00m sf_desc:\n",
      "File \u001b[1;32m~\\AppData\\Local\\Packages\\PythonSoftwareFoundation.Python.3.12_qbz5n2kfra8p0\\LocalCache\\local-packages\\Python312\\site-packages\\soundfile.py:658\u001b[0m, in \u001b[0;36mSoundFile.__init__\u001b[1;34m(self, file, mode, samplerate, channels, subtype, endian, format, closefd)\u001b[0m\n\u001b[0;32m    656\u001b[0m \u001b[38;5;28mself\u001b[39m\u001b[38;5;241m.\u001b[39m_info \u001b[38;5;241m=\u001b[39m _create_info_struct(file, mode, samplerate, channels,\n\u001b[0;32m    657\u001b[0m                                  \u001b[38;5;28mformat\u001b[39m, subtype, endian)\n\u001b[1;32m--> 658\u001b[0m \u001b[38;5;28mself\u001b[39m\u001b[38;5;241m.\u001b[39m_file \u001b[38;5;241m=\u001b[39m \u001b[38;5;28;43mself\u001b[39;49m\u001b[38;5;241;43m.\u001b[39;49m\u001b[43m_open\u001b[49m\u001b[43m(\u001b[49m\u001b[43mfile\u001b[49m\u001b[43m,\u001b[49m\u001b[43m \u001b[49m\u001b[43mmode_int\u001b[49m\u001b[43m,\u001b[49m\u001b[43m \u001b[49m\u001b[43mclosefd\u001b[49m\u001b[43m)\u001b[49m\n\u001b[0;32m    659\u001b[0m \u001b[38;5;28;01mif\u001b[39;00m \u001b[38;5;28mset\u001b[39m(mode)\u001b[38;5;241m.\u001b[39missuperset(\u001b[38;5;124m'\u001b[39m\u001b[38;5;124mr+\u001b[39m\u001b[38;5;124m'\u001b[39m) \u001b[38;5;129;01mand\u001b[39;00m \u001b[38;5;28mself\u001b[39m\u001b[38;5;241m.\u001b[39mseekable():\n\u001b[0;32m    660\u001b[0m     \u001b[38;5;66;03m# Move write position to 0 (like in Python file objects)\u001b[39;00m\n",
      "File \u001b[1;32m~\\AppData\\Local\\Packages\\PythonSoftwareFoundation.Python.3.12_qbz5n2kfra8p0\\LocalCache\\local-packages\\Python312\\site-packages\\soundfile.py:1216\u001b[0m, in \u001b[0;36mSoundFile._open\u001b[1;34m(self, file, mode_int, closefd)\u001b[0m\n\u001b[0;32m   1215\u001b[0m     err \u001b[38;5;241m=\u001b[39m _snd\u001b[38;5;241m.\u001b[39msf_error(file_ptr)\n\u001b[1;32m-> 1216\u001b[0m     \u001b[38;5;28;01mraise\u001b[39;00m LibsndfileError(err, prefix\u001b[38;5;241m=\u001b[39m\u001b[38;5;124m\"\u001b[39m\u001b[38;5;124mError opening \u001b[39m\u001b[38;5;132;01m{0!r}\u001b[39;00m\u001b[38;5;124m: \u001b[39m\u001b[38;5;124m\"\u001b[39m\u001b[38;5;241m.\u001b[39mformat(\u001b[38;5;28mself\u001b[39m\u001b[38;5;241m.\u001b[39mname))\n\u001b[0;32m   1217\u001b[0m \u001b[38;5;28;01mif\u001b[39;00m mode_int \u001b[38;5;241m==\u001b[39m _snd\u001b[38;5;241m.\u001b[39mSFM_WRITE:\n\u001b[0;32m   1218\u001b[0m     \u001b[38;5;66;03m# Due to a bug in libsndfile version <= 1.0.25, frames != 0\u001b[39;00m\n\u001b[0;32m   1219\u001b[0m     \u001b[38;5;66;03m# when opening a named pipe in SFM_WRITE mode.\u001b[39;00m\n\u001b[0;32m   1220\u001b[0m     \u001b[38;5;66;03m# See http://github.com/erikd/libsndfile/issues/77.\u001b[39;00m\n",
      "\u001b[1;31mLibsndfileError\u001b[0m: Error opening 'your_audio.wav': System error.",
      "\nDuring handling of the above exception, another exception occurred:\n",
      "\u001b[1;31mFileNotFoundError\u001b[0m                         Traceback (most recent call last)",
      "Cell \u001b[1;32mIn[3], line 21\u001b[0m\n\u001b[0;32m     19\u001b[0m audio_file \u001b[38;5;241m=\u001b[39m audio_file_input\u001b[38;5;241m.\u001b[39mvalue\n\u001b[0;32m     20\u001b[0m interval \u001b[38;5;241m=\u001b[39m interval_input\u001b[38;5;241m.\u001b[39mvalue\n\u001b[1;32m---> 21\u001b[0m signal, sample_rate \u001b[38;5;241m=\u001b[39m \u001b[43mlibrosa\u001b[49m\u001b[38;5;241;43m.\u001b[39;49m\u001b[43mload\u001b[49m\u001b[43m(\u001b[49m\u001b[43maudio_file\u001b[49m\u001b[43m,\u001b[49m\u001b[43m \u001b[49m\u001b[43msr\u001b[49m\u001b[38;5;241;43m=\u001b[39;49m\u001b[38;5;28;43;01mNone\u001b[39;49;00m\u001b[43m)\u001b[49m\n\u001b[0;32m     22\u001b[0m interval \u001b[38;5;241m=\u001b[39m \u001b[38;5;241m0.20\u001b[39m \u001b[38;5;66;03m#Set interval right here\u001b[39;00m\n\u001b[0;32m     23\u001b[0m chunk_size \u001b[38;5;241m=\u001b[39m \u001b[38;5;28mint\u001b[39m(sample_rate\u001b[38;5;241m*\u001b[39minterval)\n",
      "File \u001b[1;32m~\\AppData\\Local\\Packages\\PythonSoftwareFoundation.Python.3.12_qbz5n2kfra8p0\\LocalCache\\local-packages\\Python312\\site-packages\\librosa\\core\\audio.py:184\u001b[0m, in \u001b[0;36mload\u001b[1;34m(path, sr, mono, offset, duration, dtype, res_type)\u001b[0m\n\u001b[0;32m    180\u001b[0m \u001b[38;5;28;01mif\u001b[39;00m \u001b[38;5;28misinstance\u001b[39m(path, (\u001b[38;5;28mstr\u001b[39m, pathlib\u001b[38;5;241m.\u001b[39mPurePath)):\n\u001b[0;32m    181\u001b[0m     warnings\u001b[38;5;241m.\u001b[39mwarn(\n\u001b[0;32m    182\u001b[0m         \u001b[38;5;124m\"\u001b[39m\u001b[38;5;124mPySoundFile failed. Trying audioread instead.\u001b[39m\u001b[38;5;124m\"\u001b[39m, stacklevel\u001b[38;5;241m=\u001b[39m\u001b[38;5;241m2\u001b[39m\n\u001b[0;32m    183\u001b[0m     )\n\u001b[1;32m--> 184\u001b[0m     y, sr_native \u001b[38;5;241m=\u001b[39m \u001b[43m__audioread_load\u001b[49m\u001b[43m(\u001b[49m\u001b[43mpath\u001b[49m\u001b[43m,\u001b[49m\u001b[43m \u001b[49m\u001b[43moffset\u001b[49m\u001b[43m,\u001b[49m\u001b[43m \u001b[49m\u001b[43mduration\u001b[49m\u001b[43m,\u001b[49m\u001b[43m \u001b[49m\u001b[43mdtype\u001b[49m\u001b[43m)\u001b[49m\n\u001b[0;32m    185\u001b[0m \u001b[38;5;28;01melse\u001b[39;00m:\n\u001b[0;32m    186\u001b[0m     \u001b[38;5;28;01mraise\u001b[39;00m exc\n",
      "File \u001b[1;32m~\\AppData\\Local\\Packages\\PythonSoftwareFoundation.Python.3.12_qbz5n2kfra8p0\\LocalCache\\local-packages\\Python312\\site-packages\\decorator.py:232\u001b[0m, in \u001b[0;36mdecorate.<locals>.fun\u001b[1;34m(*args, **kw)\u001b[0m\n\u001b[0;32m    230\u001b[0m \u001b[38;5;28;01mif\u001b[39;00m \u001b[38;5;129;01mnot\u001b[39;00m kwsyntax:\n\u001b[0;32m    231\u001b[0m     args, kw \u001b[38;5;241m=\u001b[39m fix(args, kw, sig)\n\u001b[1;32m--> 232\u001b[0m \u001b[38;5;28;01mreturn\u001b[39;00m \u001b[43mcaller\u001b[49m\u001b[43m(\u001b[49m\u001b[43mfunc\u001b[49m\u001b[43m,\u001b[49m\u001b[43m \u001b[49m\u001b[38;5;241;43m*\u001b[39;49m\u001b[43m(\u001b[49m\u001b[43mextras\u001b[49m\u001b[43m \u001b[49m\u001b[38;5;241;43m+\u001b[39;49m\u001b[43m \u001b[49m\u001b[43margs\u001b[49m\u001b[43m)\u001b[49m\u001b[43m,\u001b[49m\u001b[43m \u001b[49m\u001b[38;5;241;43m*\u001b[39;49m\u001b[38;5;241;43m*\u001b[39;49m\u001b[43mkw\u001b[49m\u001b[43m)\u001b[49m\n",
      "File \u001b[1;32m~\\AppData\\Local\\Packages\\PythonSoftwareFoundation.Python.3.12_qbz5n2kfra8p0\\LocalCache\\local-packages\\Python312\\site-packages\\librosa\\util\\decorators.py:59\u001b[0m, in \u001b[0;36mdeprecated.<locals>.__wrapper\u001b[1;34m(func, *args, **kwargs)\u001b[0m\n\u001b[0;32m     50\u001b[0m \u001b[38;5;250m\u001b[39m\u001b[38;5;124;03m\"\"\"Warn the user, and then proceed.\"\"\"\u001b[39;00m\n\u001b[0;32m     51\u001b[0m warnings\u001b[38;5;241m.\u001b[39mwarn(\n\u001b[0;32m     52\u001b[0m     \u001b[38;5;124m\"\u001b[39m\u001b[38;5;132;01m{:s}\u001b[39;00m\u001b[38;5;124m.\u001b[39m\u001b[38;5;132;01m{:s}\u001b[39;00m\u001b[38;5;130;01m\\n\u001b[39;00m\u001b[38;5;130;01m\\t\u001b[39;00m\u001b[38;5;124mDeprecated as of librosa version \u001b[39m\u001b[38;5;132;01m{:s}\u001b[39;00m\u001b[38;5;124m.\u001b[39m\u001b[38;5;124m\"\u001b[39m\n\u001b[0;32m     53\u001b[0m     \u001b[38;5;124m\"\u001b[39m\u001b[38;5;130;01m\\n\u001b[39;00m\u001b[38;5;130;01m\\t\u001b[39;00m\u001b[38;5;124mIt will be removed in librosa version \u001b[39m\u001b[38;5;132;01m{:s}\u001b[39;00m\u001b[38;5;124m.\u001b[39m\u001b[38;5;124m\"\u001b[39m\u001b[38;5;241m.\u001b[39mformat(\n\u001b[1;32m   (...)\u001b[0m\n\u001b[0;32m     57\u001b[0m     stacklevel\u001b[38;5;241m=\u001b[39m\u001b[38;5;241m3\u001b[39m,  \u001b[38;5;66;03m# Would be 2, but the decorator adds a level\u001b[39;00m\n\u001b[0;32m     58\u001b[0m )\n\u001b[1;32m---> 59\u001b[0m \u001b[38;5;28;01mreturn\u001b[39;00m \u001b[43mfunc\u001b[49m\u001b[43m(\u001b[49m\u001b[38;5;241;43m*\u001b[39;49m\u001b[43margs\u001b[49m\u001b[43m,\u001b[49m\u001b[43m \u001b[49m\u001b[38;5;241;43m*\u001b[39;49m\u001b[38;5;241;43m*\u001b[39;49m\u001b[43mkwargs\u001b[49m\u001b[43m)\u001b[49m\n",
      "File \u001b[1;32m~\\AppData\\Local\\Packages\\PythonSoftwareFoundation.Python.3.12_qbz5n2kfra8p0\\LocalCache\\local-packages\\Python312\\site-packages\\librosa\\core\\audio.py:240\u001b[0m, in \u001b[0;36m__audioread_load\u001b[1;34m(path, offset, duration, dtype)\u001b[0m\n\u001b[0;32m    237\u001b[0m     reader \u001b[38;5;241m=\u001b[39m path\n\u001b[0;32m    238\u001b[0m \u001b[38;5;28;01melse\u001b[39;00m:\n\u001b[0;32m    239\u001b[0m     \u001b[38;5;66;03m# If the input was not an audioread object, try to open it\u001b[39;00m\n\u001b[1;32m--> 240\u001b[0m     reader \u001b[38;5;241m=\u001b[39m \u001b[43maudioread\u001b[49m\u001b[38;5;241;43m.\u001b[39;49m\u001b[43maudio_open\u001b[49m\u001b[43m(\u001b[49m\u001b[43mpath\u001b[49m\u001b[43m)\u001b[49m\n\u001b[0;32m    242\u001b[0m \u001b[38;5;28;01mwith\u001b[39;00m reader \u001b[38;5;28;01mas\u001b[39;00m input_file:\n\u001b[0;32m    243\u001b[0m     sr_native \u001b[38;5;241m=\u001b[39m input_file\u001b[38;5;241m.\u001b[39msamplerate\n",
      "File \u001b[1;32m~\\AppData\\Local\\Packages\\PythonSoftwareFoundation.Python.3.12_qbz5n2kfra8p0\\LocalCache\\local-packages\\Python312\\site-packages\\audioread\\__init__.py:127\u001b[0m, in \u001b[0;36maudio_open\u001b[1;34m(path, backends)\u001b[0m\n\u001b[0;32m    125\u001b[0m \u001b[38;5;28;01mfor\u001b[39;00m BackendClass \u001b[38;5;129;01min\u001b[39;00m backends:\n\u001b[0;32m    126\u001b[0m     \u001b[38;5;28;01mtry\u001b[39;00m:\n\u001b[1;32m--> 127\u001b[0m         \u001b[38;5;28;01mreturn\u001b[39;00m \u001b[43mBackendClass\u001b[49m\u001b[43m(\u001b[49m\u001b[43mpath\u001b[49m\u001b[43m)\u001b[49m\n\u001b[0;32m    128\u001b[0m     \u001b[38;5;28;01mexcept\u001b[39;00m DecodeError:\n\u001b[0;32m    129\u001b[0m         \u001b[38;5;28;01mpass\u001b[39;00m\n",
      "File \u001b[1;32m~\\AppData\\Local\\Packages\\PythonSoftwareFoundation.Python.3.12_qbz5n2kfra8p0\\LocalCache\\local-packages\\Python312\\site-packages\\audioread\\rawread.py:59\u001b[0m, in \u001b[0;36mRawAudioFile.__init__\u001b[1;34m(self, filename)\u001b[0m\n\u001b[0;32m     58\u001b[0m \u001b[38;5;28;01mdef\u001b[39;00m \u001b[38;5;21m__init__\u001b[39m(\u001b[38;5;28mself\u001b[39m, filename):\n\u001b[1;32m---> 59\u001b[0m     \u001b[38;5;28mself\u001b[39m\u001b[38;5;241m.\u001b[39m_fh \u001b[38;5;241m=\u001b[39m \u001b[38;5;28;43mopen\u001b[39;49m\u001b[43m(\u001b[49m\u001b[43mfilename\u001b[49m\u001b[43m,\u001b[49m\u001b[43m \u001b[49m\u001b[38;5;124;43m'\u001b[39;49m\u001b[38;5;124;43mrb\u001b[39;49m\u001b[38;5;124;43m'\u001b[39;49m\u001b[43m)\u001b[49m\n\u001b[0;32m     61\u001b[0m     \u001b[38;5;28;01mtry\u001b[39;00m:\n\u001b[0;32m     62\u001b[0m         \u001b[38;5;28mself\u001b[39m\u001b[38;5;241m.\u001b[39m_file \u001b[38;5;241m=\u001b[39m aifc\u001b[38;5;241m.\u001b[39mopen(\u001b[38;5;28mself\u001b[39m\u001b[38;5;241m.\u001b[39m_fh)\n",
      "\u001b[1;31mFileNotFoundError\u001b[0m: [Errno 2] No such file or directory: 'your_audio.wav'"
     ]
    }
   ],
   "source": [
    "audio_file = audio_file_input.value\n",
    "interval = interval_input.value\n",
    "signal, sample_rate = librosa.load(audio_file, sr=None)\n",
    "chunk_size = int(sample_rate*interval)"
   ]
  },
  {
   "cell_type": "code",
   "execution_count": 3,
   "id": "7fc00970-f506-4f7f-8464-4eee61342575",
   "metadata": {},
   "outputs": [],
   "source": [
    "#Beep Generation Function\n",
    "def play_beep(sample_rate, dominant_frequencies):\n",
    "    sound = np.array([])\n",
    "    t = np.linspace(0, interval, int(sample_rate*interval), endpoint=False)\n",
    "    phase = 0\n",
    "\n",
    "    for freq in dominant_frequencies:\n",
    "            beep = 0.15 * np.sin(2 * np.pi * freq * t + phase)\n",
    "            phase = (phase + 2 * np.pi * freq * interval) % (2 * np.pi)\n",
    "            sound = np.concatenate((sound, beep))\n",
    "\n",
    "    return sound\n",
    "\n",
    "#Bandpass filter function for frequency extraction\n",
    "def bandpass_filter(data, lowcut, highcut, sample_rate, order=4):\n",
    "    nyquist = 0.5 * sample_rate\n",
    "    low = lowcut / nyquist\n",
    "    high = highcut / nyquist\n",
    "    b, a = butter(order, [low, high], btype = 'band', analog = False)\n",
    "    return filtfilt(b, a, data)"
   ]
  },
  {
   "cell_type": "code",
   "execution_count": 4,
   "id": "b0a8047c-2391-4011-a48c-065292a30baa",
   "metadata": {},
   "outputs": [],
   "source": [
    "#Frequency extraction using FFT\n",
    "dominant_freqs = []\n",
    "filtered_signal = bandpass_filter(signal, 200,  4000, sample_rate=sample_rate)\n",
    "magnitude_threshold = 50\n",
    "for i in range(0, len(signal), chunk_size):\n",
    "    chunk = filtered_signal[i:i + chunk_size]\n",
    "    \n",
    "    # Pad the chunk if it's less than 1 second (for the last segment)\n",
    "    if len(chunk) < chunk_size:\n",
    "        chunk = np.pad(chunk, (0, chunk_size - len(chunk)))\n",
    "    \n",
    "    # Perform FFT\n",
    "    fft_result = np.fft.fft(chunk)\n",
    "    fft_magnitude = np.abs(fft_result)  # Get magnitude of FFT\n",
    "    frequencies = np.fft.fftfreq(len(fft_result), 1 / sample_rate)  # Get frequency bins\n",
    "\n",
    "    # Keep only positive frequencies\n",
    "    freqs = frequencies[:len(frequencies) // 2]\n",
    "    magnitudes = fft_magnitude[:len(frequencies) // 2]\n",
    "\n",
    "    # Find dominant frequency\n",
    "    dominant_frequency = freqs[np.argmax(magnitudes)]\n",
    "    max_index = np.argmax(magnitudes)\n",
    "    max_magnitude = magnitudes[max_index]\n",
    "   \n",
    "    #Lambda Function(could be useful for transforming frequency to music note)\n",
    "    #note_frequencies = { #128, 132, 164, 196, 292, 328, 388, 392, 440, 492, 496, 524, 588, 592, 660, 744, 788\n",
    "    #    \"0\": 0, \"1\": 128, \"2\": 132, \"3\": 164, \"4\": 196, \"5\": 292, \"6\": 328, \"7\": 388, \"8\": 392, \"9\": 440, \n",
    "    #    \"10\": 492, \"11\": 496, \"12\": 524, \"13\": 588, \"14\": 592, \"15\": 660, \"16\": 744, \"17\": 788\n",
    "    #    \"0\": 0.00, \"C0\": 16.35, \"C#0\": 17.32, \"D0\": 18.35, \"D#0\": 19.45, \"E0\": 20.60, \n",
    "    #    \"F0\": 21.83, \"F#0\": 23.12, \"G0\": 24.50, \"G#0\": 25.96, \"A0\": 27.50, \"A#0\": 29.14, \"B0\": 30.87,\n",
    "    #    \"C1\": 32.70, \"C#1\": 34.65, \"D1\": 36.71, \"D#1\": 38.89, \"E1\": 41.20, \n",
    "    #    \"F1\": 43.65, \"F#1\": 46.25, \"G1\": 49.00, \"G#1\": 51.91, \"A1\": 55.00, \"A#1\": 58.27, \"B1\": 61.74,\n",
    "    #    \"C2\": 65.41, \"C#2\": 69.30, \"D2\": 73.42, \"D#2\": 77.78, \"E2\": 82.41, \n",
    "    #    \"F2\": 87.31, \"F#2\": 92.50, \"G2\": 98.00, \"G#2\": 103.83, \"A2\": 110.00, \"A#2\": 116.54, \"B2\": 123.47,\n",
    "    #    \"C3\": 130.81, \"C#3\": 138.59, \"D3\": 146.83, \"D#3\": 155.56, \"E3\": 164.81, \n",
    "    #    \"F3\": 174.61, \"F#3\": 185.00, \"G3\": 196.00, \"G#3\": 207.65, \"A3\": 220.00, \"A#3\": 233.08, \"B3\": 246.94,\n",
    "    #    \"C4\": 261.63, \"C#4\": 277.18, \"D4\": 293.66, \"D#4\": 311.13, \"E4\": 329.63, \n",
    "    #    \"F4\": 349.23, \"F#4\": 369.99, \"G4\": 392.00, \"G#4\": 415.30, \"A4\": 440.00, \"A#4\": 466.16, \"B4\": 493.88,\n",
    "    #    \"C5\": 523.25, \"C#5\": 554.37, \"D5\": 587.33, \"D#5\": 622.25, \"E5\": 659.25, \n",
    "    #    \"F5\": 698.46, \"F#5\": 739.99, \"G5\": 783.99, \"G#5\": 830.61, \"A5\": 880.00, \"A#5\": 932.33, \"B5\": 987.77,\n",
    "    #    \"C6\": 1046.50, \"C#6\": 1108.73, \"D6\": 1174.66, \"D#6\": 1244.51, \"E6\": 1318.51, \n",
    "    #    \"F6\": 1396.91, \"F#6\": 1479.98, \"G6\": 1567.98, \"G#6\": 1661.22, \"A6\": 1760.00, \"A#6\": 1864.66, \"B6\": 1975.53\n",
    "    #}\n",
    "    #closest_note = min(note_frequencies, key=lambda note: abs(dominant_frequency - note_frequencies[note]))\n",
    "    #dominant_frequency = (note_frequencies[closest_note])\n",
    "    \n",
    "    \n",
    "    if max_magnitude > magnitude_threshold:  \n",
    "        dominant_freqs.append(dominant_frequency)\n",
    "        #dominant_magnitudes.append(max_magnitude)\n",
    "    else:\n",
    "        dominant_freqs.append(0)\n",
    "        #dominant_magnitudes.append(0)\n",
    "\n",
    "    # Normalize magnitudes to [0, 1] for amplitude control\n",
    "    #max_mag = max(dominant_magnitudes) if max(dominant_magnitudes) > 0 else 1\n",
    "    #normalized_amplitudes = [mag / max_mag for mag in dominant_magnitudes]\n",
    "    \"\"\"\n",
    "    # Plot the spectrum\n",
    "    plt.figure(figsize=(10, 4))\n",
    "    plt.plot(freqs, magnitudes)\n",
    "    plt.title(f\"Frequency Spectrum for Second {i // chunk_size + 1}\")\n",
    "    plt.xlabel(\"Frequency (Hz)\")\n",
    "    plt.ylabel(\"Magnitude\")\n",
    "    plt.xlim(0,10000)\n",
    "    plt.grid()\n",
    "    plt.annotate(f\"{dominant_frequency:.2f} Hz\",\n",
    "                 xy=(dominant_frequency, np.max(magnitudes)),\n",
    "                 xytext=(dominant_frequency, np.max(magnitudes) * 1.1),\n",
    "                 arrowprops=dict(arrowstyle=\"->\", color=\"red\"),\n",
    "                 color=\"red\")\n",
    "    plt.show()\n",
    "    print(f\"Second {i // chunk_size + 1}: Dominant Frequency = {dominant_frequency:.2f} Hz\")\n",
    "    \"\"\""
   ]
  },
  {
   "cell_type": "code",
   "execution_count": 5,
   "id": "572618be-411d-4799-8350-016dd01476e3",
   "metadata": {},
   "outputs": [],
   "source": [
    "beep = play_beep(sample_rate, dominant_freqs)\n",
    "output_filename = \"output.wav\"\n",
    "write(output_filename, sample_rate, (beep * 32767).astype(np.int16))"
   ]
  },
  {
   "cell_type": "code",
   "execution_count": 6,
   "id": "e30e2842-d244-4049-a6dd-558a6dc1e297",
   "metadata": {},
   "outputs": [
    {
     "name": "stdout",
     "output_type": "stream",
     "text": [
      "Minimum dominant frequency: 0.00 Hz\n",
      "Maximum dominant frequency: 3030.00 Hz\n"
     ]
    }
   ],
   "source": [
    "#For Testing Purpose\n",
    "#min_freq = min(dominant_freqs)\n",
    "#max_freq = max(dominant_freqs)\n",
    "#print(f\"Minimum dominant frequency: {min_freq:.2f} Hz\")\n",
    "#print(f\"Maximum dominant frequency: {max_freq:.2f} Hz\")"
   ]
  },
  {
   "cell_type": "code",
   "execution_count": 7,
   "id": "dc8f85a7-d2b5-4964-b17d-187a4039f2ca",
   "metadata": {},
   "outputs": [
    {
     "name": "stdout",
     "output_type": "stream",
     "text": [
      "[0.0, 0.0, 0.0, 0.0, 0.0, 0.0, 0.0, 0.0, 0.0, 0.0, 0.0, 0.0, 0.0, 0.0, 0.0, 0.0, 0.0, 0.0, 0.0, 0.0, 0.0, 0.0, 0.0, 0.0, 0.0, 0.0, 0.0, 0.0, 0.0, 0.0, 0.0, 0.0, 0.0, 0.0, 0.0, 0.0, 0.0, 0.0, 0.0, 0.0, 0.0, 0.0, 0.0, 0.0, 0.0, 0.0, 0.0, 0.0, 0.0, 0.0, 0.0, 0.0, 0.0, 0.0, 0.0, 0.0, 0.0, 0.0, 0.0, 0.0, 0.0, 0.0, 0.0, 0.0, 0.0, 0.0, 0.0, 0.0, 0.0, 0.0, 0.0, 0.0, 0.0, 0.0, 0.0, 0.0, 0.0, 0.0, 0.0, 0.0, 0.0, 0.0, 0.0, 0.0, 0.0, 0.0, 0.0, 0.0, 0.0, 0.0, 0.0, 0.0, 0.0, 0.0, 0.0, 0.0, 0.0, 0.0, 0.0, 0.0, 0.0, 0.0, 0.0, 0.0, 0.0, 0.0, 0.0, 0.0, 0.0, 0.0, 0.0, 0.0, 0.0, 0.0, 0.0, 0.0, 0.0, 0.0, 0.0, 0.0, 0.0, 0.0, 0.0, 0.0, 0.0, 0.0, 0.0, 0.0, 0.0, 0.0, 0.0, 0.0, 0.0, 1980.0, 1955.0, 2020.0, 1380.0, 1395.0, 975.0, 0.0, 0.0, 1155.0, 590.0, 1210.0, 2320.0, 0.0, 0.0, 0.0, 655.0, 560.0, 1340.0, 1475.0, 530.0, 825.0, 390.0, 500.0, 810.0, 2020.0, 685.0, 1745.0, 1270.0, 2185.0, 1090.0, 580.0, 560.0, 0.0, 0.0, 0.0, 1235.0, 590.0, 350.0, 0.0, 0.0, 0.0, 2120.0, 990.0, 1995.0, 505.0, 510.0, 1105.0, 2080.0, 1375.0, 1485.0, 1465.0, 0.0, 390.0, 1855.0, 1870.0, 1095.0, 1175.0, 1365.0, 530.0, 2295.0, 390.0, 445.0, 1205.0, 1230.0, 1015.0, 0.0, 1035.0, 2500.0, 1025.0, 740.0, 945.0, 1050.0, 1180.0, 1170.0, 1125.0, 1130.0, 1235.0, 1220.0, 1340.0, 0.0, 1250.0, 1275.0, 1245.0, 1345.0, 2340.0, 0.0, 0.0, 330.0, 0.0, 1245.0, 2400.0, 410.0, 455.0, 520.0, 520.0, 1535.0, 1505.0, 1515.0, 1185.0, 620.0, 1110.0, 1520.0, 920.0, 1225.0, 1895.0, 1125.0, 2050.0, 0.0, 0.0, 0.0, 0.0, 0.0, 0.0, 0.0, 1240.0, 1660.0, 1520.0, 1220.0, 1005.0, 960.0, 825.0, 0.0, 0.0, 0.0, 0.0, 0.0, 1200.0, 1330.0, 1335.0, 1555.0, 960.0, 990.0, 870.0, 0.0, 0.0, 0.0, 0.0, 0.0, 0.0, 0.0, 955.0, 1540.0, 1495.0, 1190.0, 1210.0, 2285.0, 2240.0, 0.0, 0.0, 0.0, 0.0, 1025.0, 1710.0, 1700.0, 1430.0, 0.0, 810.0, 1995.0, 935.0, 1000.0, 995.0, 1110.0, 2380.0, 1000.0, 900.0, 2080.0, 2415.0, 0.0, 675.0, 870.0, 880.0, 930.0, 1015.0, 945.0, 1120.0, 930.0, 1000.0, 1225.0, 1165.0, 1080.0, 1135.0, 2295.0, 1145.0, 2165.0, 2320.0, 2285.0, 0.0, 0.0, 0.0, 535.0, 1080.0, 1655.0, 1285.0, 1320.0, 2380.0, 2355.0, 1215.0, 1190.0, 1140.0, 1040.0, 2420.0, 2070.0, 1410.0, 1330.0, 1435.0, 2480.0, 665.0, 2080.0, 2365.0, 1010.0, 740.0, 0.0, 945.0, 390.0, 945.0, 1345.0, 1325.0, 1190.0, 850.0, 1780.0, 900.0, 455.0, 1385.0, 1230.0, 1045.0, 1715.0, 2095.0, 0.0, 1080.0, 1180.0, 1185.0, 2485.0, 660.0, 1900.0, 1995.0, 2370.0, 470.0, 505.0, 500.0, 2295.0, 2230.0, 560.0, 0.0, 0.0, 2065.0, 1005.0, 1015.0, 475.0, 500.0, 455.0, 1200.0, 1940.0, 2400.0, 495.0, 970.0, 1530.0, 1310.0, 295.0, 790.0, 715.0, 315.0, 1300.0, 405.0, 470.0, 485.0, 1105.0, 975.0, 0.0, 1250.0, 1410.0, 890.0, 420.0, 485.0, 415.0, 390.0, 1015.0, 485.0, 1065.0, 860.0, 0.0, 1105.0, 2060.0, 2045.0, 600.0, 2085.0, 990.0, 1520.0, 1365.0, 420.0, 395.0, 1445.0, 1530.0, 800.0, 515.0, 525.0, 1360.0, 1380.0, 1385.0, 1400.0, 595.0, 1185.0, 1585.0, 1580.0, 1380.0, 1360.0, 1020.0, 1875.0, 1900.0, 1070.0, 2070.0, 0.0, 0.0, 0.0, 0.0, 0.0, 0.0, 3030.0, 2610.0, 1265.0, 1800.0, 1245.0, 1010.0, 955.0, 0.0, 0.0, 0.0, 0.0, 0.0, 0.0, 0.0, 1115.0, 1710.0, 800.0, 1210.0, 940.0, 1000.0, 860.0, 960.0, 850.0, 0.0, 0.0, 0.0, 0.0, 2520.0, 1305.0, 1240.0, 1835.0, 1350.0, 1070.0, 1870.0, 0.0, 0.0, 0.0, 0.0, 0.0, 1280.0, 1275.0, 1650.0, 1375.0, 2060.0, 890.0, 855.0, 1020.0, 1015.0, 1155.0, 1180.0, 1020.0, 990.0, 1000.0, 1895.0, 1875.0, 0.0, 875.0, 890.0, 970.0, 995.0, 940.0, 1155.0, 960.0, 995.0, 1170.0, 1160.0, 1140.0, 2360.0, 1775.0, 1150.0, 1680.0, 2360.0, 1825.0, 0.0, 0.0, 0.0, 0.0, 1230.0, 1180.0, 1355.0, 1355.0, 2275.0, 1750.0, 1350.0, 1200.0, 1185.0, 1190.0, 1855.0, 2160.0, 2320.0, 1000.0, 0.0, 0.0, 0.0, 0.0, 0.0, 0.0, 0.0, 0.0, 0.0, 0.0, 0.0, 0.0, 0.0, 0.0, 0.0, 0.0, 0.0, 0.0, 0.0, 0.0, 0.0, 0.0, 0.0, 0.0, 0.0, 0.0, 0.0, 0.0, 0.0, 0.0, 0.0, 0.0, 0.0, 0.0, 0.0, 0.0, 0.0, 0.0, 0.0, 0.0, 0.0, 0.0, 0.0, 0.0, 0.0, 0.0, 0.0, 0.0, 0.0, 0.0, 0.0, 0.0, 0.0, 0.0, 0.0, 0.0, 0.0, 0.0, 0.0, 0.0, 0.0, 0.0, 0.0, 0.0, 0.0, 0.0, 0.0, 0.0, 0.0, 0.0, 0.0, 0.0, 0.0, 0.0, 0.0, 0.0, 0.0, 0.0, 0.0, 0.0, 0.0, 0.0, 0.0, 0.0, 0.0, 0.0, 0.0, 0.0, 0.0, 0.0, 0.0, 0.0, 0.0, 0.0, 0.0, 0.0, 0.0, 0.0, 0.0, 0.0, 0.0, 0.0, 0.0, 0.0, 0.0, 0.0, 0.0, 0.0, 0.0, 0.0, 0.0, 0.0, 0.0, 0.0, 0.0, 0.0, 0.0, 0.0, 0.0, 0.0, 0.0, 0.0, 0.0, 0.0, 0.0, 0.0, 0.0, 0.0, 0.0, 0.0, 0.0, 0.0, 0.0, 0.0, 0.0, 0.0, 0.0, 0.0, 0.0, 0.0, 0.0, 0.0, 0.0, 0.0, 0.0, 0.0, 1280.0, 0.0, 0.0, 0.0, 0.0, 0.0, 0.0, 0.0, 0.0, 0.0, 0.0, 0.0, 1410.0, 1405.0, 0.0, 0.0, 0.0, 0.0, 0.0, 0.0, 0.0, 0.0, 0.0, 0.0, 0.0, 0.0, 0.0, 0.0, 0.0, 0.0, 0.0, 0.0, 0.0, 0.0, 0.0, 0.0, 0.0, 0.0, 0.0, 0.0, 0.0, 0.0, 0.0, 0.0, 0.0, 0.0, 0.0, 0.0, 0.0, 0.0, 0.0, 0.0, 0.0, 0.0, 950.0, 1145.0, 1135.0, 1130.0, 1415.0, 1240.0, 985.0, 1010.0, 0.0, 0.0, 0.0, 0.0, 0.0, 1210.0, 1800.0, 1900.0, 1145.0, 1140.0, 1915.0, 1980.0, 0.0, 0.0, 0.0, 0.0, 630.0, 1175.0, 1230.0, 1640.0, 1190.0, 940.0, 2130.0, 0.0, 0.0, 0.0, 0.0, 0.0, 430.0, 1215.0, 1305.0, 1285.0, 1730.0, 1940.0, 1945.0, 1015.0, 975.0, 950.0, 0.0, 0.0, 0.0, 275.0, 1165.0, 1165.0, 480.0, 2010.0, 900.0, 890.0, 950.0, 990.0, 990.0, 1195.0, 1160.0, 1010.0, 1020.0, 1015.0, 1145.0, 0.0, 0.0, 935.0, 945.0, 1055.0, 1035.0, 1135.0, 1140.0, 955.0, 1005.0, 1155.0, 1760.0, 1635.0, 1170.0, 1700.0, 1175.0, 1140.0, 955.0, 0.0, 0.0, 0.0, 0.0, 0.0, 1425.0, 1400.0, 960.0, 1380.0, 710.0, 1490.0, 1865.0, 1310.0, 1210.0, 1100.0, 705.0, 1135.0, 1595.0, 605.0, 680.0, 0.0, 0.0, 0.0, 0.0, 0.0, 0.0, 0.0, 0.0, 0.0, 1275.0, 1645.0, 1275.0, 1345.0, 1380.0, 1920.0, 2115.0, 2000.0, 805.0, 0.0, 0.0, 0.0, 1200.0, 1395.0, 1340.0, 1105.0, 0.0, 0.0, 0.0, 0.0, 0.0, 0.0, 0.0, 0.0, 620.0, 1335.0, 1385.0, 2000.0, 925.0, 0.0, 0.0, 0.0, 0.0, 0.0, 0.0, 0.0, 0.0, 1100.0, 1185.0, 2615.0, 1990.0, 960.0, 965.0, 0.0, 0.0, 0.0, 0.0, 0.0, 0.0, 0.0, 0.0, 0.0, 2390.0, 1100.0, 2105.0, 1045.0, 0.0, 0.0, 0.0, 0.0, 0.0, 0.0, 0.0, 0.0, 1440.0, 1425.0, 1565.0, 1340.0, 1945.0, 1970.0, 785.0, 0.0, 0.0, 0.0, 0.0, 0.0, 0.0, 1900.0, 1870.0, 1120.0, 0.0, 0.0, 0.0, 0.0, 0.0, 275.0, 1295.0, 1305.0, 1260.0, 1455.0, 880.0, 885.0, 2065.0, 1060.0, 970.0, 1140.0, 1170.0, 985.0, 995.0, 1940.0, 955.0, 1965.0, 1090.0, 980.0, 880.0, 965.0, 1950.0, 975.0, 1165.0, 1215.0, 940.0, 1000.0, 1015.0, 940.0, 860.0, 1000.0, 930.0, 1560.0, 1290.0, 1955.0, 1290.0, 1135.0, 1960.0, 1875.0, 2255.0, 960.0, 1325.0, 1060.0, 955.0, 1545.0, 1945.0, 1995.0, 2005.0, 1990.0, 2000.0, 1945.0, 1895.0, 1455.0, 970.0, 1085.0, 1095.0, 915.0, 945.0, 1110.0, 985.0, 1110.0, 1170.0, 1000.0, 975.0, 990.0, 1095.0, 880.0, 1000.0, 940.0, 895.0, 1000.0, 1095.0, 950.0, 1110.0, 1905.0, 1020.0, 975.0, 0.0, 1170.0, 1175.0, 1860.0, 1225.0, 1190.0, 990.0, 900.0, 0.0, 0.0, 0.0, 2840.0, 1520.0, 1440.0, 1310.0, 1420.0, 1440.0, 695.0, 685.0, 1360.0, 1335.0, 2310.0, 930.0, 830.0, 785.0, 2165.0, 2135.0, 680.0, 585.0, 0.0, 0.0, 0.0, 0.0, 0.0, 0.0, 0.0, 0.0, 0.0, 0.0, 0.0, 0.0, 0.0, 1400.0, 930.0, 570.0, 1260.0, 0.0, 0.0, 800.0, 430.0, 0.0, 0.0, 0.0, 0.0, 0.0, 0.0, 0.0, 0.0, 0.0, 0.0, 0.0, 0.0, 0.0, 0.0, 0.0, 0.0, 0.0, 0.0, 0.0, 0.0, 0.0, 0.0, 0.0, 0.0, 0.0, 0.0, 0.0, 0.0, 0.0, 0.0, 0.0, 0.0, 0.0, 0.0, 0.0, 0.0, 0.0, 0.0, 0.0, 0.0, 0.0, 0.0, 0.0, 0.0, 0.0, 0.0, 0.0, 0.0, 0.0, 0.0, 0.0, 0.0, 0.0, 0.0, 0.0, 0.0, 0.0, 0.0, 0.0, 0.0, 0.0, 0.0, 0.0, 0.0, 0.0, 0.0, 0.0, 0.0, 0.0, 0.0, 0.0, 0.0, 0.0, 0.0, 0.0, 0.0, 0.0, 0.0, 0.0, 0.0, 0.0, 0.0, 0.0, 0.0, 0.0, 0.0, 0.0, 0.0, 0.0, 0.0, 0.0, 0.0, 0.0, 0.0, 0.0, 0.0, 0.0, 0.0, 0.0, 0.0, 0.0, 0.0, 0.0, 0.0, 0.0, 0.0, 0.0, 0.0, 0.0, 0.0, 0.0, 0.0, 0.0, 0.0, 0.0, 0.0, 0.0, 0.0, 0.0, 0.0, 0.0, 0.0, 0.0, 0.0, 0.0, 0.0, 0.0, 0.0, 0.0, 0.0, 0.0, 0.0, 0.0, 0.0, 0.0, 0.0, 0.0, 0.0, 0.0, 0.0, 0.0, 0.0, 0.0, 0.0, 0.0, 0.0, 0.0, 0.0, 0.0, 0.0, 0.0, 0.0, 0.0, 0.0, 0.0, 0.0, 0.0, 0.0, 0.0, 0.0, 0.0, 0.0, 0.0, 0.0, 0.0, 0.0, 0.0, 0.0, 0.0, 0.0, 0.0, 0.0, 0.0, 0.0, 0.0, 0.0, 0.0, 0.0, 0.0, 0.0, 0.0, 0.0, 0.0, 0.0, 0.0, 0.0, 0.0, 0.0, 0.0, 0.0, 0.0, 0.0, 0.0, 0.0, 0.0, 0.0, 0.0, 0.0, 0.0, 0.0, 0.0, 0.0, 0.0, 0.0, 0.0, 0.0]\n"
     ]
    }
   ],
   "source": [
    "#For Testing Purpose\n",
    "#cleaned_data = [float(x) for x in dominant_freqs]\n",
    "#print(cleaned_data)"
   ]
  },
  {
   "cell_type": "code",
   "execution_count": null,
   "id": "eb5f59c3-8b31-4f32-8ad5-1bf2bed74cc2",
   "metadata": {},
   "outputs": [],
   "source": []
  }
 ],
 "metadata": {
  "kernelspec": {
   "display_name": "Python 3 (ipykernel)",
   "language": "python",
   "name": "python3"
  },
  "language_info": {
   "codemirror_mode": {
    "name": "ipython",
    "version": 3
   },
   "file_extension": ".py",
   "mimetype": "text/x-python",
   "name": "python",
   "nbconvert_exporter": "python",
   "pygments_lexer": "ipython3",
   "version": "3.12.10"
  }
 },
 "nbformat": 4,
 "nbformat_minor": 5
}
